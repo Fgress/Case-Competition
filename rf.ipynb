{
 "cells": [
  {
   "cell_type": "code",
   "execution_count": 1,
   "id": "a5a6f14a-ca6a-4b0e-8012-64ce0aaf39c2",
   "metadata": {
    "tags": []
   },
   "outputs": [],
   "source": [
    "import os\n",
    "\n",
    "%matplotlib inline\n",
    "import string\n",
    "import sys\n",
    "\n",
    "import seaborn as sns\n",
    "\n",
    "import matplotlib.pyplot as plt\n",
    "import numpy as np\n",
    "import pandas as pd\n",
    "\n",
    "import os\n",
    "import re\n",
    "import sys\n",
    "from hashlib import sha1\n",
    "\n",
    "import matplotlib.pyplot as plt\n",
    "import numpy as np\n",
    "import pandas as pd\n",
    "from sklearn import datasets\n",
    "from sklearn.compose import make_column_transformer\n",
    "from sklearn.dummy import DummyClassifier, DummyRegressor\n",
    "from sklearn.ensemble import RandomForestClassifier, RandomForestRegressor\n",
    "from sklearn.linear_model import LogisticRegression, Ridge\n",
    "from sklearn.metrics import (\n",
    "    accuracy_score,\n",
    "    classification_report,\n",
    "    confusion_matrix,\n",
    "    f1_score,\n",
    "    make_scorer,\n",
    "    precision_score,\n",
    "    recall_score,\n",
    ")\n",
    "from sklearn.model_selection import (\n",
    "    GridSearchCV,\n",
    "    RandomizedSearchCV,\n",
    "    cross_val_score,\n",
    "    cross_validate,\n",
    "    train_test_split,\n",
    ")\n",
    "from sklearn.pipeline import Pipeline, make_pipeline\n",
    "from sklearn.preprocessing import OneHotEncoder, OrdinalEncoder, StandardScaler\n",
    "\n",
    "from sklearn.tree import DecisionTreeClassifier\n",
    "from sklearn.ensemble import RandomForestClassifier, GradientBoostingClassifier\n",
    "from sklearn.metrics import accuracy_score, precision_score, recall_score, f1_score, roc_auc_score\n",
    "\n",
    "from sklearn.preprocessing import PolynomialFeatures\n",
    "from sklearn.feature_selection import SelectFromModel"
   ]
  },
  {
   "cell_type": "code",
   "execution_count": 2,
   "id": "f06316f3-1618-440b-948e-8cb3ffe46e6d",
   "metadata": {
    "tags": []
   },
   "outputs": [
    {
     "data": {
      "text/html": [
       "<div>\n",
       "<style scoped>\n",
       "    .dataframe tbody tr th:only-of-type {\n",
       "        vertical-align: middle;\n",
       "    }\n",
       "\n",
       "    .dataframe tbody tr th {\n",
       "        vertical-align: top;\n",
       "    }\n",
       "\n",
       "    .dataframe thead th {\n",
       "        text-align: right;\n",
       "    }\n",
       "</style>\n",
       "<table border=\"1\" class=\"dataframe\">\n",
       "  <thead>\n",
       "    <tr style=\"text-align: right;\">\n",
       "      <th></th>\n",
       "      <th>Age</th>\n",
       "      <th>AI_Interaction_Level</th>\n",
       "      <th>Satisfaction_with_AI_Services</th>\n",
       "      <th>AI_Personalization_Effectiveness</th>\n",
       "      <th>AI_Response_Time</th>\n",
       "      <th>Overall_Usage_Frequency</th>\n",
       "      <th>Customer_Service_Interactions</th>\n",
       "      <th>Change_in_Usage_Patterns</th>\n",
       "      <th>Customer_Churn</th>\n",
       "    </tr>\n",
       "  </thead>\n",
       "  <tbody>\n",
       "    <tr>\n",
       "      <th>0</th>\n",
       "      <td>59</td>\n",
       "      <td>2</td>\n",
       "      <td>7</td>\n",
       "      <td>7</td>\n",
       "      <td>2</td>\n",
       "      <td>18</td>\n",
       "      <td>5</td>\n",
       "      <td>2</td>\n",
       "      <td>1</td>\n",
       "    </tr>\n",
       "    <tr>\n",
       "      <th>1</th>\n",
       "      <td>49</td>\n",
       "      <td>2</td>\n",
       "      <td>6</td>\n",
       "      <td>5</td>\n",
       "      <td>1</td>\n",
       "      <td>3</td>\n",
       "      <td>2</td>\n",
       "      <td>0</td>\n",
       "      <td>0</td>\n",
       "    </tr>\n",
       "    <tr>\n",
       "      <th>2</th>\n",
       "      <td>35</td>\n",
       "      <td>2</td>\n",
       "      <td>3</td>\n",
       "      <td>3</td>\n",
       "      <td>3</td>\n",
       "      <td>8</td>\n",
       "      <td>2</td>\n",
       "      <td>1</td>\n",
       "      <td>1</td>\n",
       "    </tr>\n",
       "    <tr>\n",
       "      <th>3</th>\n",
       "      <td>63</td>\n",
       "      <td>2</td>\n",
       "      <td>3</td>\n",
       "      <td>3</td>\n",
       "      <td>2</td>\n",
       "      <td>6</td>\n",
       "      <td>6</td>\n",
       "      <td>2</td>\n",
       "      <td>1</td>\n",
       "    </tr>\n",
       "    <tr>\n",
       "      <th>4</th>\n",
       "      <td>28</td>\n",
       "      <td>4</td>\n",
       "      <td>6</td>\n",
       "      <td>6</td>\n",
       "      <td>1</td>\n",
       "      <td>11</td>\n",
       "      <td>3</td>\n",
       "      <td>-1</td>\n",
       "      <td>0</td>\n",
       "    </tr>\n",
       "  </tbody>\n",
       "</table>\n",
       "</div>"
      ],
      "text/plain": [
       "   Age  AI_Interaction_Level  Satisfaction_with_AI_Services  \\\n",
       "0   59                     2                              7   \n",
       "1   49                     2                              6   \n",
       "2   35                     2                              3   \n",
       "3   63                     2                              3   \n",
       "4   28                     4                              6   \n",
       "\n",
       "   AI_Personalization_Effectiveness  AI_Response_Time  \\\n",
       "0                                 7                 2   \n",
       "1                                 5                 1   \n",
       "2                                 3                 3   \n",
       "3                                 3                 2   \n",
       "4                                 6                 1   \n",
       "\n",
       "   Overall_Usage_Frequency  Customer_Service_Interactions  \\\n",
       "0                       18                              5   \n",
       "1                        3                              2   \n",
       "2                        8                              2   \n",
       "3                        6                              6   \n",
       "4                       11                              3   \n",
       "\n",
       "   Change_in_Usage_Patterns  Customer_Churn  \n",
       "0                         2               1  \n",
       "1                         0               0  \n",
       "2                         1               1  \n",
       "3                         2               1  \n",
       "4                        -1               0  "
      ]
     },
     "execution_count": 2,
     "metadata": {},
     "output_type": "execute_result"
    }
   ],
   "source": [
    "test = pd.read_csv('test.csv')\n",
    "\n",
    "train = pd.read_csv('train.csv')\n",
    "train = train.drop(columns=[\"ID\"])\n",
    "train.head()"
   ]
  },
  {
   "cell_type": "code",
   "execution_count": 3,
   "id": "d2d62609-7569-4e45-b946-270bf22a3aee",
   "metadata": {
    "tags": []
   },
   "outputs": [
    {
     "name": "stdout",
     "output_type": "stream",
     "text": [
      "Age                                 0\n",
      "AI_Interaction_Level                0\n",
      "Satisfaction_with_AI_Services       0\n",
      "AI_Personalization_Effectiveness    0\n",
      "AI_Response_Time                    0\n",
      "Overall_Usage_Frequency             0\n",
      "Customer_Service_Interactions       0\n",
      "Change_in_Usage_Patterns            0\n",
      "dtype: int64\n"
     ]
    }
   ],
   "source": [
    "X = train.drop(columns=[\"Customer_Churn\"])\n",
    "y = train[\"Customer_Churn\"]\n",
    "\n",
    "X_test = test.drop(columns=[\"Customer_Churn\"])\n",
    "y_test = test[\"Customer_Churn\"]\n",
    "\n",
    "\n",
    "missingValue = X.apply(lambda x: sum(x.isna()))\n",
    "print(missingValue)\n"
   ]
  },
  {
   "cell_type": "code",
   "execution_count": 4,
   "id": "3cdd6450-bca9-4bf5-bad7-6dd63efcbed6",
   "metadata": {
    "tags": []
   },
   "outputs": [
    {
     "data": {
      "image/png": "[encoded data removed]",
      "text/plain": [
       "<Figure size 1000x800 with 2 Axes>"
      ]
     },
     "metadata": {},
     "output_type": "display_data"
    }
   ],
   "source": [
    "correlation_matrix = train.corr()\n",
    "plt.figure(figsize=(10, 8))\n",
    "sns.heatmap(correlation_matrix, annot=True, cmap='coolwarm', fmt=\".2f\")\n",
    "plt.title('Correlation Plot')\n",
    "plt.show()"
   ]
  },
  {
   "cell_type": "markdown",
   "id": "d19c03cc-aa6b-49fe-9f24-6a2a03a4b2eb",
   "metadata": {},
   "source": [
    "Based on the interaction plot, AI_interaction:Age, AI_personnaliz:satisfaction"
   ]
  },
  {
   "cell_type": "code",
   "execution_count": 5,
   "id": "2e673f96-52b6-4602-9cc0-0aec02e51602",
   "metadata": {
    "tags": []
   },
   "outputs": [
    {
     "data": {
      "text/plain": [
       "0    2909\n",
       "1    2091\n",
       "Name: Customer_Churn, dtype: int64"
      ]
     },
     "execution_count": 5,
     "metadata": {},
     "output_type": "execute_result"
    }
   ],
   "source": [
    "train[\"Customer_Churn\"].value_counts()"
   ]
  },
  {
   "cell_type": "code",
   "execution_count": 6,
   "id": "d35b8ae4-65d1-41a7-a9ce-bea50a9c0fc9",
   "metadata": {
    "tags": []
   },
   "outputs": [
    {
     "data": {
      "text/html": [
       "<div>\n",
       "<style scoped>\n",
       "    .dataframe tbody tr th:only-of-type {\n",
       "        vertical-align: middle;\n",
       "    }\n",
       "\n",
       "    .dataframe tbody tr th {\n",
       "        vertical-align: top;\n",
       "    }\n",
       "\n",
       "    .dataframe thead th {\n",
       "        text-align: right;\n",
       "    }\n",
       "</style>\n",
       "<table border=\"1\" class=\"dataframe\">\n",
       "  <thead>\n",
       "    <tr style=\"text-align: right;\">\n",
       "      <th></th>\n",
       "      <th>Feature</th>\n",
       "      <th>Importance</th>\n",
       "    </tr>\n",
       "  </thead>\n",
       "  <tbody>\n",
       "    <tr>\n",
       "      <th>0</th>\n",
       "      <td>Age</td>\n",
       "      <td>0.211010</td>\n",
       "    </tr>\n",
       "    <tr>\n",
       "      <th>5</th>\n",
       "      <td>Overall_Usage_Frequency</td>\n",
       "      <td>0.209488</td>\n",
       "    </tr>\n",
       "    <tr>\n",
       "      <th>6</th>\n",
       "      <td>Customer_Service_Interactions</td>\n",
       "      <td>0.148456</td>\n",
       "    </tr>\n",
       "    <tr>\n",
       "      <th>2</th>\n",
       "      <td>Satisfaction_with_AI_Services</td>\n",
       "      <td>0.108009</td>\n",
       "    </tr>\n",
       "    <tr>\n",
       "      <th>3</th>\n",
       "      <td>AI_Personalization_Effectiveness</td>\n",
       "      <td>0.099773</td>\n",
       "    </tr>\n",
       "    <tr>\n",
       "      <th>7</th>\n",
       "      <td>Change_in_Usage_Patterns</td>\n",
       "      <td>0.091455</td>\n",
       "    </tr>\n",
       "    <tr>\n",
       "      <th>1</th>\n",
       "      <td>AI_Interaction_Level</td>\n",
       "      <td>0.071593</td>\n",
       "    </tr>\n",
       "    <tr>\n",
       "      <th>4</th>\n",
       "      <td>AI_Response_Time</td>\n",
       "      <td>0.060217</td>\n",
       "    </tr>\n",
       "  </tbody>\n",
       "</table>\n",
       "</div>"
      ],
      "text/plain": [
       "                            Feature  Importance\n",
       "0                               Age    0.211010\n",
       "5           Overall_Usage_Frequency    0.209488\n",
       "6     Customer_Service_Interactions    0.148456\n",
       "2     Satisfaction_with_AI_Services    0.108009\n",
       "3  AI_Personalization_Effectiveness    0.099773\n",
       "7          Change_in_Usage_Patterns    0.091455\n",
       "1              AI_Interaction_Level    0.071593\n",
       "4                  AI_Response_Time    0.060217"
      ]
     },
     "execution_count": 6,
     "metadata": {},
     "output_type": "execute_result"
    }
   ],
   "source": [
    "rf = RandomForestClassifier(n_estimators=100, random_state=12345)\n",
    "rf.fit(X, y)\n",
    "feature_importances = rf.feature_importances_\n",
    "feature_importance_df = pd.DataFrame({'Feature': X.columns, \n",
    "                                      'Importance': feature_importances})\n",
    "feature_importance_df = feature_importance_df.sort_values(by='Importance', ascending=False)\n",
    "feature_importance_df"
   ]
  },
  {
   "cell_type": "code",
   "execution_count": 7,
   "id": "80d6bfe8-2ce4-4fc6-ad3b-954b92cb7c14",
   "metadata": {
    "tags": []
   },
   "outputs": [],
   "source": [
    "threshold = 0.09\n",
    "important_features = feature_importance_df[feature_importance_df['Importance'] > threshold]['Feature'].tolist()\n",
    "X_selected = X[important_features]\n"
   ]
  },
  {
   "cell_type": "code",
   "execution_count": 8,
   "id": "d0351a0f-7de2-4333-8c58-fa46be03486a",
   "metadata": {
    "tags": []
   },
   "outputs": [
    {
     "data": {
      "text/plain": [
       "array([[ 1.3084166 ,  0.52001047,  0.51119337, ...,  4.        ,\n",
       "         4.        ,  4.        ],\n",
       "       [ 0.51181593,  0.17086956, -0.18232633, ...,  4.        ,\n",
       "         2.        ,  1.        ],\n",
       "       [-0.60342501, -0.87655316, -0.87584603, ...,  4.        ,\n",
       "         6.        ,  9.        ],\n",
       "       ...,\n",
       "       [ 0.51181593,  0.17086956,  0.16443352, ...,  9.        ,\n",
       "         9.        ,  9.        ],\n",
       "       [-0.12546461,  0.52001047,  0.85795322, ...,  9.        ,\n",
       "         3.        ,  1.        ],\n",
       "       [-0.12546461,  0.17086956,  0.51119337, ...,  4.        ,\n",
       "         6.        ,  9.        ]])"
      ]
     },
     "execution_count": 8,
     "metadata": {},
     "output_type": "execute_result"
    }
   ],
   "source": [
    "numeric_cols = [\"Age\", \n",
    "                \"Satisfaction_with_AI_Services\", \n",
    "                \"AI_Personalization_Effectiveness\",\n",
    "                \"Overall_Usage_Frequency\",\n",
    "                \"Customer_Service_Interactions\"]\n",
    "\n",
    "categorical_cols = [#\"AI_Interaction_Level\", \n",
    "                    #\"AI_Response_Time\",\n",
    "                    \"Change_in_Usage_Patterns\"]\n",
    "\n",
    "numeric_transformer = StandardScaler()\n",
    "categorical_transformer = OneHotEncoder(drop=\"if_binary\", handle_unknown=\"ignore\")\n",
    "\n",
    "preprocessor_X = make_column_transformer(\n",
    "    (numeric_transformer, numeric_cols),\n",
    "    (categorical_transformer, categorical_cols),\n",
    "    remainder=\"passthrough\"\n",
    ")\n",
    "transformed_X_train = preprocessor_X.fit_transform(X)\n",
    "\n",
    "poly = PolynomialFeatures(degree=2, include_bias=False)\n",
    "transformed_X_train = poly.fit_transform(transformed_X_train)\n",
    "transformed_X_train"
   ]
  },
  {
   "cell_type": "code",
   "execution_count": 9,
   "id": "8d6ee344-791d-4720-bd01-dcc0bce3f50a",
   "metadata": {
    "tags": []
   },
   "outputs": [],
   "source": [
    "SCORING = \"accuracy\""
   ]
  },
  {
   "cell_type": "code",
   "execution_count": 10,
   "id": "afff8899-b732-4d75-8809-27a0eef7e3f8",
   "metadata": {
    "tags": []
   },
   "outputs": [
    {
     "name": "stdout",
     "output_type": "stream",
     "text": [
      "Mean validation score 0.583\n",
      "Mean training score 1.000\n"
     ]
    },
    {
     "data": {
      "text/html": [
       "<div>\n",
       "<style scoped>\n",
       "    .dataframe tbody tr th:only-of-type {\n",
       "        vertical-align: middle;\n",
       "    }\n",
       "\n",
       "    .dataframe tbody tr th {\n",
       "        vertical-align: top;\n",
       "    }\n",
       "\n",
       "    .dataframe thead th {\n",
       "        text-align: right;\n",
       "    }\n",
       "</style>\n",
       "<table border=\"1\" class=\"dataframe\">\n",
       "  <thead>\n",
       "    <tr style=\"text-align: right;\">\n",
       "      <th></th>\n",
       "      <th>fit_time</th>\n",
       "      <th>score_time</th>\n",
       "      <th>test_score</th>\n",
       "      <th>train_score</th>\n",
       "    </tr>\n",
       "  </thead>\n",
       "  <tbody>\n",
       "    <tr>\n",
       "      <th>0</th>\n",
       "      <td>0.682552</td>\n",
       "      <td>0.041028</td>\n",
       "      <td>0.577</td>\n",
       "      <td>0.99950</td>\n",
       "    </tr>\n",
       "    <tr>\n",
       "      <th>1</th>\n",
       "      <td>0.651102</td>\n",
       "      <td>0.039632</td>\n",
       "      <td>0.579</td>\n",
       "      <td>0.99950</td>\n",
       "    </tr>\n",
       "    <tr>\n",
       "      <th>2</th>\n",
       "      <td>0.635784</td>\n",
       "      <td>0.040128</td>\n",
       "      <td>0.586</td>\n",
       "      <td>0.99950</td>\n",
       "    </tr>\n",
       "    <tr>\n",
       "      <th>3</th>\n",
       "      <td>0.663398</td>\n",
       "      <td>0.039454</td>\n",
       "      <td>0.596</td>\n",
       "      <td>1.00000</td>\n",
       "    </tr>\n",
       "    <tr>\n",
       "      <th>4</th>\n",
       "      <td>0.627680</td>\n",
       "      <td>0.039357</td>\n",
       "      <td>0.576</td>\n",
       "      <td>0.99975</td>\n",
       "    </tr>\n",
       "  </tbody>\n",
       "</table>\n",
       "</div>"
      ],
      "text/plain": [
       "   fit_time  score_time  test_score  train_score\n",
       "0  0.682552    0.041028       0.577      0.99950\n",
       "1  0.651102    0.039632       0.579      0.99950\n",
       "2  0.635784    0.040128       0.586      0.99950\n",
       "3  0.663398    0.039454       0.596      1.00000\n",
       "4  0.627680    0.039357       0.576      0.99975"
      ]
     },
     "execution_count": 10,
     "metadata": {},
     "output_type": "execute_result"
    }
   ],
   "source": [
    "pipe_rf = make_pipeline(preprocessor_X, RandomForestClassifier(random_state=12345))\n",
    "rfScores = cross_validate(pipe_rf, X_selected, y, scoring=SCORING, return_train_score=True)\n",
    "print(\"Mean validation score %0.3f\" % (np.mean(rfScores[\"test_score\"])))\n",
    "print(\"Mean training score %0.3f\" % (np.mean(rfScores[\"train_score\"])))\n",
    "pd.DataFrame(rfScores)"
   ]
  },
  {
   "cell_type": "code",
   "execution_count": 34,
   "id": "c164a69b-c041-4406-a6ff-63b3b708bfe2",
   "metadata": {},
   "outputs": [
    {
     "name": "stdout",
     "output_type": "stream",
     "text": [
      "Best hyperparameter values:  {'randomforestclassifier__max_depth': 10, 'randomforestclassifier__n_estimators': 200}\n",
      "Best score: 0.604\n"
     ]
    }
   ],
   "source": [
    "pipe_rf = make_pipeline(preprocessor_X, RandomForestClassifier(random_state=12345))\n",
    "\n",
    "param_grid = {\n",
    "    'randomforestclassifier__n_estimators': [100, 200, 300],\n",
    "    'randomforestclassifier__max_depth': [None, 10, 20]\n",
    "}\n",
    "\n",
    "forest_search_multi = GridSearchCV(\n",
    "    pipe_rf,\n",
    "    param_grid,\n",
    "    scoring=SCORING,\n",
    "    return_train_score=True,\n",
    "    n_jobs=-1,\n",
    ")\n",
    "forest_search_multi.fit(X, y)\n",
    "\n",
    "print(\"Best hyperparameter values: \", forest_search_multi.best_params_)\n",
    "print(\"Best score: %0.3f\" % (forest_search_multi.best_score_))"
   ]
  },
  {
   "cell_type": "code",
   "execution_count": 33,
   "id": "596d56ce-fdc4-493e-b962-1be68613b92c",
   "metadata": {},
   "outputs": [
    {
     "name": "stdout",
     "output_type": "stream",
     "text": [
      "Mean validation score 0.592\n",
      "Mean training score 0.669\n"
     ]
    },
    {
     "data": {
      "text/html": [
       "<div>\n",
       "<style scoped>\n",
       "    .dataframe tbody tr th:only-of-type {\n",
       "        vertical-align: middle;\n",
       "    }\n",
       "\n",
       "    .dataframe tbody tr th {\n",
       "        vertical-align: top;\n",
       "    }\n",
       "\n",
       "    .dataframe thead th {\n",
       "        text-align: right;\n",
       "    }\n",
       "</style>\n",
       "<table border=\"1\" class=\"dataframe\">\n",
       "  <thead>\n",
       "    <tr style=\"text-align: right;\">\n",
       "      <th></th>\n",
       "      <th>fit_time</th>\n",
       "      <th>score_time</th>\n",
       "      <th>test_score</th>\n",
       "      <th>train_score</th>\n",
       "    </tr>\n",
       "  </thead>\n",
       "  <tbody>\n",
       "    <tr>\n",
       "      <th>0</th>\n",
       "      <td>0.427716</td>\n",
       "      <td>0.009737</td>\n",
       "      <td>0.604</td>\n",
       "      <td>0.67075</td>\n",
       "    </tr>\n",
       "    <tr>\n",
       "      <th>1</th>\n",
       "      <td>0.438645</td>\n",
       "      <td>0.009183</td>\n",
       "      <td>0.578</td>\n",
       "      <td>0.67175</td>\n",
       "    </tr>\n",
       "    <tr>\n",
       "      <th>2</th>\n",
       "      <td>0.424034</td>\n",
       "      <td>0.009338</td>\n",
       "      <td>0.618</td>\n",
       "      <td>0.66275</td>\n",
       "    </tr>\n",
       "    <tr>\n",
       "      <th>3</th>\n",
       "      <td>0.441151</td>\n",
       "      <td>0.008594</td>\n",
       "      <td>0.590</td>\n",
       "      <td>0.66675</td>\n",
       "    </tr>\n",
       "    <tr>\n",
       "      <th>4</th>\n",
       "      <td>0.400981</td>\n",
       "      <td>0.008334</td>\n",
       "      <td>0.571</td>\n",
       "      <td>0.67150</td>\n",
       "    </tr>\n",
       "  </tbody>\n",
       "</table>\n",
       "</div>"
      ],
      "text/plain": [
       "   fit_time  score_time  test_score  train_score\n",
       "0  0.427716    0.009737       0.604      0.67075\n",
       "1  0.438645    0.009183       0.578      0.67175\n",
       "2  0.424034    0.009338       0.618      0.66275\n",
       "3  0.441151    0.008594       0.590      0.66675\n",
       "4  0.400981    0.008334       0.571      0.67150"
      ]
     },
     "execution_count": 33,
     "metadata": {},
     "output_type": "execute_result"
    }
   ],
   "source": [
    "pipe_rf = make_pipeline(preprocessor_X, GradientBoostingClassifier(random_state=12345))\n",
    "rfScores = cross_validate(pipe_rf, X_selected, y, scoring=SCORING, return_train_score=True)\n",
    "print(\"Mean validation score %0.3f\" % (np.mean(rfScores[\"test_score\"])))\n",
    "print(\"Mean training score %0.3f\" % (np.mean(rfScores[\"train_score\"])))\n",
    "pd.DataFrame(rfScores)"
   ]
  },
  {
   "cell_type": "code",
   "execution_count": 36,
   "id": "2ad4b99e-5079-4ca2-b630-3c7f7a012a40",
   "metadata": {},
   "outputs": [
    {
     "name": "stderr",
     "output_type": "stream",
     "text": [
      "/opt/conda/lib/python3.11/site-packages/sklearn/model_selection/_validation.py:425: FitFailedWarning: \n",
      "45 fits failed out of a total of 135.\n",
      "The score on these train-test partitions for these parameters will be set to nan.\n",
      "If these failures are not expected, you can try to debug them by setting error_score='raise'.\n",
      "\n",
      "Below are more details about the failures:\n",
      "--------------------------------------------------------------------------------\n",
      "45 fits failed with the following error:\n",
      "Traceback (most recent call last):\n",
      "  File \"/opt/conda/lib/python3.11/site-packages/sklearn/model_selection/_validation.py\", line 729, in _fit_and_score\n",
      "    estimator.fit(X_train, y_train, **fit_params)\n",
      "  File \"/opt/conda/lib/python3.11/site-packages/sklearn/base.py\", line 1152, in wrapper\n",
      "    return fit_method(estimator, *args, **kwargs)\n",
      "           ^^^^^^^^^^^^^^^^^^^^^^^^^^^^^^^^^^^^^^\n",
      "  File \"/opt/conda/lib/python3.11/site-packages/sklearn/pipeline.py\", line 427, in fit\n",
      "    self._final_estimator.fit(Xt, y, **fit_params_last_step)\n",
      "  File \"/opt/conda/lib/python3.11/site-packages/sklearn/base.py\", line 1145, in wrapper\n",
      "    estimator._validate_params()\n",
      "  File \"/opt/conda/lib/python3.11/site-packages/sklearn/base.py\", line 638, in _validate_params\n",
      "    validate_parameter_constraints(\n",
      "  File \"/opt/conda/lib/python3.11/site-packages/sklearn/utils/_param_validation.py\", line 96, in validate_parameter_constraints\n",
      "    raise InvalidParameterError(\n",
      "sklearn.utils._param_validation.InvalidParameterError: The 'max_features' parameter of GradientBoostingClassifier must be an int in the range [1, inf), a float in the range (0.0, 1.0], a str among {'log2', 'sqrt'} or None. Got 'auto' instead.\n",
      "\n",
      "  warnings.warn(some_fits_failed_message, FitFailedWarning)\n",
      "/opt/conda/lib/python3.11/site-packages/sklearn/model_selection/_search.py:979: UserWarning: One or more of the test scores are non-finite: [   nan    nan    nan 0.5884 0.5896 0.589  0.5884 0.5896 0.589     nan\n",
      "    nan    nan 0.5808 0.581  0.5826 0.5808 0.581  0.5826    nan    nan\n",
      "    nan 0.584  0.586  0.5864 0.584  0.586  0.5864]\n",
      "  warnings.warn(\n",
      "/opt/conda/lib/python3.11/site-packages/sklearn/model_selection/_search.py:979: UserWarning: One or more of the train scores are non-finite: [    nan     nan     nan 0.99985 0.99985 0.99985 0.99985 0.99985 0.99985\n",
      "     nan     nan     nan 0.99985 0.99985 0.99985 0.99985 0.99985 0.99985\n",
      "     nan     nan     nan 0.99985 0.99985 0.99985 0.99985 0.99985 0.99985]\n",
      "  warnings.warn(\n"
     ]
    },
    {
     "name": "stdout",
     "output_type": "stream",
     "text": [
      "Best hyperparameter values:  {'gradientboostingclassifier__max_depth': None, 'gradientboostingclassifier__max_features': 'sqrt', 'gradientboostingclassifier__n_estimators': 200}\n",
      "Best score: 0.590\n"
     ]
    }
   ],
   "source": [
    "pipe_rf = make_pipeline(preprocessor_X, GradientBoostingClassifier(random_state=12345))\n",
    "\n",
    "param_grid = {\n",
    "    'gradientboostingclassifier__n_estimators': [100, 200, 300],\n",
    "    'gradientboostingclassifier__max_depth': [None, 10, 20],\n",
    "    'gradientboostingclassifier__max_features': ['auto', 'sqrt', 'log2']\n",
    "}\n",
    "\n",
    "forest_search_multi = GridSearchCV(\n",
    "    pipe_rf,\n",
    "    param_grid,\n",
    "    scoring=SCORING,\n",
    "    return_train_score=True,\n",
    "    n_jobs=-1,\n",
    ")\n",
    "forest_search_multi.fit(X, y)\n",
    "\n",
    "print(\"Best hyperparameter values: \", forest_search_multi.best_params_)\n",
    "print(\"Best score: %0.3f\" % (forest_search_multi.best_score_))"
   ]
  },
  {
   "cell_type": "code",
   "execution_count": 37,
   "id": "053d5644-c48e-4a4a-9b6b-e8160babcdbd",
   "metadata": {},
   "outputs": [
    {
     "name": "stdout",
     "output_type": "stream",
     "text": [
      "Mean validation score 0.535\n",
      "Mean training score 1.000\n"
     ]
    },
    {
     "data": {
      "text/html": [
       "<div>\n",
       "<style scoped>\n",
       "    .dataframe tbody tr th:only-of-type {\n",
       "        vertical-align: middle;\n",
       "    }\n",
       "\n",
       "    .dataframe tbody tr th {\n",
       "        vertical-align: top;\n",
       "    }\n",
       "\n",
       "    .dataframe thead th {\n",
       "        text-align: right;\n",
       "    }\n",
       "</style>\n",
       "<table border=\"1\" class=\"dataframe\">\n",
       "  <thead>\n",
       "    <tr style=\"text-align: right;\">\n",
       "      <th></th>\n",
       "      <th>fit_time</th>\n",
       "      <th>score_time</th>\n",
       "      <th>test_score</th>\n",
       "      <th>train_score</th>\n",
       "    </tr>\n",
       "  </thead>\n",
       "  <tbody>\n",
       "    <tr>\n",
       "      <th>0</th>\n",
       "      <td>0.024296</td>\n",
       "      <td>0.005435</td>\n",
       "      <td>0.505</td>\n",
       "      <td>0.99950</td>\n",
       "    </tr>\n",
       "    <tr>\n",
       "      <th>1</th>\n",
       "      <td>0.023480</td>\n",
       "      <td>0.005884</td>\n",
       "      <td>0.542</td>\n",
       "      <td>0.99950</td>\n",
       "    </tr>\n",
       "    <tr>\n",
       "      <th>2</th>\n",
       "      <td>0.023775</td>\n",
       "      <td>0.005373</td>\n",
       "      <td>0.533</td>\n",
       "      <td>0.99950</td>\n",
       "    </tr>\n",
       "    <tr>\n",
       "      <th>3</th>\n",
       "      <td>0.023993</td>\n",
       "      <td>0.005307</td>\n",
       "      <td>0.550</td>\n",
       "      <td>1.00000</td>\n",
       "    </tr>\n",
       "    <tr>\n",
       "      <th>4</th>\n",
       "      <td>0.023246</td>\n",
       "      <td>0.005618</td>\n",
       "      <td>0.543</td>\n",
       "      <td>0.99975</td>\n",
       "    </tr>\n",
       "  </tbody>\n",
       "</table>\n",
       "</div>"
      ],
      "text/plain": [
       "   fit_time  score_time  test_score  train_score\n",
       "0  0.024296    0.005435       0.505      0.99950\n",
       "1  0.023480    0.005884       0.542      0.99950\n",
       "2  0.023775    0.005373       0.533      0.99950\n",
       "3  0.023993    0.005307       0.550      1.00000\n",
       "4  0.023246    0.005618       0.543      0.99975"
      ]
     },
     "execution_count": 37,
     "metadata": {},
     "output_type": "execute_result"
    }
   ],
   "source": [
    "pipe_rf = make_pipeline(preprocessor_X, DecisionTreeClassifier(random_state=12345))\n",
    "rfScores = cross_validate(pipe_rf, X_selected, y, scoring=SCORING, return_train_score=True)\n",
    "print(\"Mean validation score %0.3f\" % (np.mean(rfScores[\"test_score\"])))\n",
    "print(\"Mean training score %0.3f\" % (np.mean(rfScores[\"train_score\"])))\n",
    "pd.DataFrame(rfScores)"
   ]
  },
  {
   "cell_type": "code",
   "execution_count": null,
   "id": "194531da-33b3-4f41-9e18-71bccfcb284d",
   "metadata": {},
   "outputs": [],
   "source": []
  },
  {
   "cell_type": "code",
   "execution_count": null,
   "id": "df15901f-ddad-4173-867e-c21055964904",
   "metadata": {},
   "outputs": [],
   "source": []
  },
  {
   "cell_type": "code",
   "execution_count": 39,
   "id": "ca7ab11b-5438-4f03-9c5d-9fdaf7b81cca",
   "metadata": {},
   "outputs": [
    {
     "data": {
      "text/plain": [
       "0.6568"
      ]
     },
     "execution_count": 39,
     "metadata": {},
     "output_type": "execute_result"
    }
   ],
   "source": [
    "best = make_pipeline(preprocessor_X, RandomForestClassifier(n_estimators=200))\n",
    "best.fit(X, y)\n",
    "pred = best.predict(X_test)\n",
    "accuracy_score(y_test, pred)"
   ]
  },
  {
   "cell_type": "code",
   "execution_count": 59,
   "id": "f087de91-9d3d-4b06-ab2b-28635e164a92",
   "metadata": {},
   "outputs": [],
   "source": [
    "prediction = best.predict(X_test)\n",
    "predicted_df = pd.DataFrame({'Predicted': prediction})"
   ]
  },
  {
   "cell_type": "code",
   "execution_count": 60,
   "id": "a2846f58-342d-4454-bc59-8348a9e41897",
   "metadata": {},
   "outputs": [],
   "source": [
    "ID = test['ID']"
   ]
  },
  {
   "cell_type": "code",
   "execution_count": 62,
   "id": "4d280e4f-53c6-4477-a1f6-091107528a42",
   "metadata": {},
   "outputs": [],
   "source": [
    "result_df = pd.concat([ID, predicted_df], axis=1)\n",
    "result_df.to_csv('result.csv', index=False)"
   ]
  },
  {
   "cell_type": "code",
   "execution_count": null,
   "id": "93f8cde3-184f-4e6b-b7ea-60bcfb26d39b",
   "metadata": {},
   "outputs": [],
   "source": []
  },
  {
   "cell_type": "code",
   "execution_count": null,
   "id": "76d75671-8f8d-45c7-8ee7-753e40cb78dd",
   "metadata": {},
   "outputs": [],
   "source": []
  },
  {
   "cell_type": "code",
   "execution_count": null,
   "id": "35e2c62c-a9da-4106-b9b7-40b99db92dea",
   "metadata": {},
   "outputs": [],
   "source": []
  },
  {
   "cell_type": "code",
   "execution_count": null,
   "id": "7a1ba234-e538-41d5-99a7-d0b7a638af97",
   "metadata": {},
   "outputs": [],
   "source": []
  },
  {
   "cell_type": "code",
   "execution_count": null,
   "id": "5dad2d2f-cc61-425f-80d4-8a36c38fce8c",
   "metadata": {},
   "outputs": [],
   "source": []
  },
  {
   "cell_type": "code",
   "execution_count": null,
   "id": "87c74b3f-5682-44c8-8c58-9e57edf0b6a2",
   "metadata": {},
   "outputs": [],
   "source": [
    "models = {\n",
    "    \"Logistic Regression\": LogisticRegression(),\n",
    "    \"Decision Tree\": DecisionTreeClassifier(),\n",
    "    \"Random Forest\": RandomForestClassifier(),\n",
    "    \"Gradient Boosting\": GradientBoostingClassifier()\n",
    "}\n",
    "results = pd.DataFrame(columns=[\"Accuracy\", \"Precision\", \"Recall\", \"F1-score\", \"ROC-AUC\"])\n",
    "\n",
    "for name, model in models.items():\n",
    "    model.fit(X, y)\n",
    "    y_pred = model.predict(X_test)\n",
    "    \n",
    "    accuracy = accuracy_score(y_test, y)\n",
    "    precision = precision_score(y_test, y)\n",
    "    recall = recall_score(y_test, y)\n",
    "    f1 = f1_score(y_test, y)\n",
    "    roc_auc = roc_auc_score(y_test, y)\n",
    "    \n",
    "    # Store results\n",
    "    results.loc[name] = [accuracy, precision, recall, f1, roc_auc]\n",
    "\n",
    "print(\"Model Performance:\")\n",
    "print(results)"
   ]
  },
  {
   "cell_type": "code",
   "execution_count": null,
   "id": "92cdfd5e-8980-4297-a682-37dc20b6a27b",
   "metadata": {},
   "outputs": [],
   "source": []
  }
 ],
 "metadata": {
  "kernelspec": {
   "display_name": "Python 3 (ipykernel)",
   "language": "python",
   "name": "python3"
  },
  "language_info": {
   "codemirror_mode": {
    "name": "ipython",
    "version": 3
   },
   "file_extension": ".py",
   "mimetype": "text/x-python",
   "name": "python",
   "nbconvert_exporter": "python",
   "pygments_lexer": "ipython3",
   "version": "3.10.8"
  }
 },
 "nbformat": 4,
 "nbformat_minor": 5
}
