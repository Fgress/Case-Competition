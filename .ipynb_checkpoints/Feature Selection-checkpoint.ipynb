{
 "cells": [
  {
   "cell_type": "code",
   "execution_count": 2,
   "id": "c680c04d",
   "metadata": {
    "tags": []
   },
   "outputs": [],
   "source": [
    "import numpy as np\n",
    "import pandas as pd\n",
    "import seaborn as sns\n",
    "import matplotlib.pyplot as plt\n",
    "from sklearn.feature_selection import SelectKBest, f_classif, mutual_info_classif, chi2\n",
    "from sklearn.linear_model import LogisticRegression\n",
    "from sklearn.metrics import accuracy_score"
   ]
  },
  {
   "cell_type": "code",
   "execution_count": 3,
   "id": "e209e3b2",
   "metadata": {
    "tags": []
   },
   "outputs": [],
   "source": [
    "# Dataset\n",
    "train = pd.read_csv('train.csv')\n",
    "test = pd.read_csv('test.csv')\n",
    "\n",
    "# Define features (X) and target response (y)\n",
    "X_train = train.drop(columns=['ID', 'Customer_Churn'])\n",
    "y_train = train['Customer_Churn']\n",
    "\n",
    "X_test = test.drop(columns=['ID', 'Customer_Churn'])\n",
    "y_test = test['Customer_Churn']"
   ]
  },
  {
   "cell_type": "markdown",
   "id": "999f3c72",
   "metadata": {},
   "source": [
    "## SelectKBest, with k = 5 features"
   ]
  },
  {
   "cell_type": "code",
   "execution_count": 3,
   "id": "011a7c3b",
   "metadata": {},
   "outputs": [
    {
     "name": "stdout",
     "output_type": "stream",
     "text": [
      "Selected features: Index(['Age', 'AI_Interaction_Level', 'Satisfaction_with_AI_Services',\n",
      "       'AI_Personalization_Effectiveness', 'Change_in_Usage_Patterns'],\n",
      "      dtype='object')\n"
     ]
    }
   ],
   "source": [
    "k = 5  # You can change this value to select a different number of features\n",
    "selector = SelectKBest(f_classif, k=k) #ANOVA\n",
    "X_train_selected = selector.fit_transform(X_train, y_train)\n",
    "X_test_selected = selector.transform(X_test)\n",
    "\n",
    "# Fit the selector to the training data\n",
    "selector.fit(X_train, y_train)\n",
    "\n",
    "# Transform the training and test data to select the top k features\n",
    "X_train_selected = selector.transform(X_train)\n",
    "X_test_selected = selector.transform(X_test)\n",
    "\n",
    "# Get the boolean mask indicating which features are selected\n",
    "selected_features_mask = selector.get_support()\n",
    "\n",
    "# Get the names of the selected features\n",
    "selected_features = X_train.columns[selected_features_mask]\n",
    "\n",
    "# Print the names of the selected features\n",
    "print(\"Selected features:\", selected_features)"
   ]
  },
  {
   "cell_type": "code",
   "execution_count": 4,
   "id": "47dda34d",
   "metadata": {},
   "outputs": [
    {
     "name": "stdout",
     "output_type": "stream",
     "text": [
      "Selected features: Index(['Age', 'AI_Interaction_Level', 'Satisfaction_with_AI_Services',\n",
      "       'AI_Personalization_Effectiveness', 'Customer_Service_Interactions'],\n",
      "      dtype='object')\n"
     ]
    }
   ],
   "source": [
    "k = 5  # Number of features selected\n",
    "selector = SelectKBest(mutual_info_classif, k=k) #discrete\n",
    "X_train_selected = selector.fit_transform(X_train, y_train)\n",
    "X_test_selected = selector.transform(X_test)\n",
    "\n",
    "# Fit the selector to the training data\n",
    "selector.fit(X_train, y_train)\n",
    "\n",
    "# Transform the training and test data to select the top k features\n",
    "X_train_selected = selector.transform(X_train)\n",
    "X_test_selected = selector.transform(X_test)\n",
    "\n",
    "# Get the boolean mask indicating which features are selected\n",
    "selected_features_mask = selector.get_support()\n",
    "\n",
    "# Get the names of the selected features\n",
    "selected_features = X_train.columns[selected_features_mask]\n",
    "\n",
    "# Print the names of the selected features\n",
    "print(\"Selected features:\", selected_features)"
   ]
  },
  {
   "cell_type": "markdown",
   "id": "b85bc197",
   "metadata": {},
   "source": [
    "#### 5 \"best\" features: ['Age', 'AI_Interaction_Level', 'Satisfaction_with_AI_Services', 'AI_Personalization_Effectiveness', 'Change_in_Usage_Patterns'] or ['Age', 'AI_Interaction_Level', 'Satisfaction_with_AI_Services','AI_Personalization_Effectiveness', 'Customer_Service_Interactions']\n"
   ]
  },
  {
   "cell_type": "markdown",
   "id": "486bb54a",
   "metadata": {},
   "source": [
    "## Forward selection, with 5 folds CV to find optimal number of features"
   ]
  },
  {
   "cell_type": "code",
   "execution_count": 5,
   "id": "0a6d0779",
   "metadata": {},
   "outputs": [
    {
     "name": "stdout",
     "output_type": "stream",
     "text": [
      "Best number of features: 4\n",
      "Best score: 0.5888\n"
     ]
    }
   ],
   "source": [
    "from sklearn.feature_selection import SequentialFeatureSelector\n",
    "from sklearn.model_selection import cross_val_score\n",
    "import numpy as np\n",
    "\n",
    "# Define the range of number of features to select\n",
    "min_features = 1\n",
    "max_features = X_train.shape[1] - 1  # Maximum is one less than the total number of features\n",
    "\n",
    "# Initialize variables to store the best score and number of features\n",
    "best_score = 0\n",
    "best_n_features = 0\n",
    "\n",
    "model = LogisticRegression()\n",
    "\n",
    "# Loop through the range of number of features\n",
    "for n_features in range(min_features, max_features + 1):\n",
    "    # Create a SequentialFeatureSelector with the current number of features\n",
    "    selector = SequentialFeatureSelector(model, n_features_to_select=n_features, direction='forward')\n",
    "    \n",
    "    # Fit the selector and transform the data\n",
    "    X_train_selected = selector.fit_transform(X_train, y_train)\n",
    "    \n",
    "    # Evaluate the model using cross-validation\n",
    "    scores = cross_val_score(model, X_train_selected, y_train, cv=5, scoring='accuracy')\n",
    "    \n",
    "    # Compute the average score\n",
    "    mean_score = np.mean(scores)\n",
    "    \n",
    "    # Update the best score and number of features if the current score is better\n",
    "    if mean_score > best_score:\n",
    "        best_score = mean_score\n",
    "        best_n_features = n_features\n",
    "\n",
    "# Print the best number of features and corresponding score\n",
    "print(f\"Best number of features: {best_n_features}\")\n",
    "print(f\"Best score: {best_score}\")\n"
   ]
  },
  {
   "cell_type": "code",
   "execution_count": 6,
   "id": "57d6f58a",
   "metadata": {},
   "outputs": [
    {
     "name": "stdout",
     "output_type": "stream",
     "text": [
      "Selected features: Index(['Age', 'AI_Interaction_Level', 'AI_Response_Time',\n",
      "       'Overall_Usage_Frequency'],\n",
      "      dtype='object')\n"
     ]
    }
   ],
   "source": [
    "# Refit the selector with the best number of features\n",
    "best_selector = SequentialFeatureSelector(model, n_features_to_select=best_n_features, direction='forward')\n",
    "best_selector.fit(X_train, y_train)\n",
    "\n",
    "# Get the boolean mask indicating which features were selected\n",
    "selected_features_mask = best_selector.get_support()\n",
    "\n",
    "# Get the names of the selected features\n",
    "selected_features = X_train.columns[selected_features_mask]\n",
    "\n",
    "# Print the names of the selected features\n",
    "print(\"Selected features:\", selected_features)\n"
   ]
  },
  {
   "cell_type": "markdown",
   "id": "1fa741c8",
   "metadata": {},
   "source": [
    "#### 4 best features ['Age', 'AI_Interaction_Level', 'AI_Response_Time','Overall_Usage_Frequency']\n",
    "\n",
    "fyi I got an error (max iter reached) if I try using backward selection."
   ]
  },
  {
   "cell_type": "code",
   "execution_count": null,
   "id": "715ac631",
   "metadata": {},
   "outputs": [],
   "source": []
  }
 ],
 "metadata": {
  "kernelspec": {
   "display_name": "Python 3 (ipykernel)",
   "language": "python",
   "name": "python3"
  },
  "language_info": {
   "codemirror_mode": {
    "name": "ipython",
    "version": 3
   },
   "file_extension": ".py",
   "mimetype": "text/x-python",
   "name": "python",
   "nbconvert_exporter": "python",
   "pygments_lexer": "ipython3",
   "version": "3.10.8"
  }
 },
 "nbformat": 4,
 "nbformat_minor": 5
}
