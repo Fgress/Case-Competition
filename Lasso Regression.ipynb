{
 "cells": [
  {
   "cell_type": "code",
   "execution_count": 2,
   "id": "d226c0c0",
   "metadata": {
    "tags": []
   },
   "outputs": [],
   "source": [
    "from sklearn.linear_model import LogisticRegressionCV, LassoCV\n",
    "from sklearn.model_selection import train_test_split\n",
    "from sklearn.preprocessing import StandardScaler\n",
    "from sklearn.metrics import classification_report, confusion_matrix\n",
    "import pandas as pd\n",
    "import numpy as np\n",
    "from sklearn.linear_model import LogisticRegression\n",
    "from sklearn.metrics import accuracy_score"
   ]
  },
  {
   "cell_type": "markdown",
   "id": "07daa501",
   "metadata": {},
   "source": [
    "# Lasso Regression\n",
    "\n",
    "why Lasso? Penalize terms, inlcuding variables with high multicollinearity which exist in our dataset. It also performs variable selection all together\n",
    "\n",
    "1. We use lasso + logistic\n",
    "2. We use pure lasso"
   ]
  },
  {
   "cell_type": "code",
   "execution_count": 3,
   "id": "3fa2f449",
   "metadata": {
    "tags": []
   },
   "outputs": [
    {
     "name": "stdout",
     "output_type": "stream",
     "text": [
      "              precision    recall  f1-score   support\n",
      "\n",
      "           0       0.59      0.87      0.71       714\n",
      "           1       0.55      0.21      0.31       536\n",
      "\n",
      "    accuracy                           0.59      1250\n",
      "   macro avg       0.57      0.54      0.51      1250\n",
      "weighted avg       0.57      0.59      0.53      1250\n",
      "\n",
      "Confusion Matrix:\n",
      "[[619  95]\n",
      " [422 114]]\n",
      "0.5864\n"
     ]
    }
   ],
   "source": [
    "# Load the dataset\n",
    "\n",
    "train = pd.read_csv('train.csv')\n",
    "test = pd.read_csv('test.csv')\n",
    "\n",
    "# Separate the features and the target variable\n",
    "\n",
    "X_train = train.drop(columns=['ID', 'Customer_Churn'])\n",
    "y_train = train['Customer_Churn']\n",
    "X_val = test.drop(columns=['ID', 'Customer_Churn']) \n",
    "y_val = test['Customer_Churn']\n",
    "\n",
    "\n",
    "# Standardize the data\n",
    "scaler = StandardScaler()\n",
    "X_train_scaled = scaler.fit_transform(X_train)\n",
    "X_val_scaled = scaler.transform(X_val)\n",
    "\n",
    "# Create a logistic regression model with Lasso (L1) regularization\n",
    "# Using LogisticRegressionCV to find the best regularization strength via cross-validation\n",
    "\n",
    "lasso_model = LogisticRegressionCV(cv=5, penalty='l1', solver='liblinear', max_iter=100, random_state=42)\n",
    "\n",
    "# Fit the model to the training data\n",
    "lasso_model.fit(X_train_scaled, y_train)\n",
    "\n",
    "# Predict on the validation set\n",
    "y_pred = lasso_model.predict(X_val_scaled)\n",
    "accuracy = accuracy_score(y_val, y_pred)\n",
    "\n",
    "# Evaluate the model\n",
    "print(classification_report(y_val, y_pred))\n",
    "print(\"Confusion Matrix:\")\n",
    "print(confusion_matrix(y_val, y_pred))\n",
    "print(accuracy)"
   ]
  },
  {
   "cell_type": "code",
   "execution_count": 4,
   "id": "9c83ad8e",
   "metadata": {
    "tags": []
   },
   "outputs": [
    {
     "data": {
      "text/plain": [
       "(Index(['AI_Interaction_Level', 'Satisfaction_with_AI_Services',\n",
       "        'AI_Response_Time', 'Overall_Usage_Frequency',\n",
       "        'Change_in_Usage_Patterns'],\n",
       "       dtype='object'),\n",
       " 0.5848)"
      ]
     },
     "execution_count": 4,
     "metadata": {},
     "output_type": "execute_result"
    }
   ],
   "source": [
    "# Load the dataset\n",
    "\n",
    "train = pd.read_csv('train.csv')\n",
    "test = pd.read_csv('test.csv')\n",
    "\n",
    "# Separate the features and the target variable\n",
    "\n",
    "X_train = train.drop(columns=['ID', 'Customer_Churn'])\n",
    "y_train = train['Customer_Churn']\n",
    "X_val = test.drop(columns=['ID', 'Customer_Churn']) \n",
    "y_val = test['Customer_Churn']\n",
    "\n",
    "# Standardize the data\n",
    "scaler = StandardScaler()\n",
    "X_train_scaled = scaler.fit_transform(X_train)\n",
    "X_val_scaled = scaler.transform(X_val)\n",
    "\n",
    "# Create a LassoCV model instance which will perform cross-validation to find the optimal lambda (alpha)\n",
    "lasso_cv = LassoCV(cv=5, random_state=42)\n",
    "\n",
    "# Fit the model to the scaled training data\n",
    "lasso_cv.fit(X_train_scaled, y_train)\n",
    "\n",
    "# Get the indices of the selected features (non-zero coefficients)\n",
    "selected_features_indices = np.where(lasso_cv.coef_ != 0)[0]\n",
    "\n",
    "# Get the names of the selected features\n",
    "selected_features_names = X_train.columns[selected_features_indices]\n",
    "\n",
    "# Predict on the validation set using the model with the optimal lambda\n",
    "y_pred = lasso_cv.predict(X_val_scaled) > 0.5  # using 0.5 as the threshold for binary classification\n",
    "\n",
    "# Calculate the accuracy on the validation set\n",
    "accuracy = accuracy_score(y_val, y_pred)\n",
    "\n",
    "selected_features_names, accuracy"
   ]
  },
  {
   "cell_type": "markdown",
   "id": "a5065e06",
   "metadata": {},
   "source": [
    "## Elastic Net (in between Lasso and Ridge regression)"
   ]
  },
  {
   "cell_type": "code",
   "execution_count": 5,
   "id": "2d4a4ae8",
   "metadata": {
    "tags": []
   },
   "outputs": [
    {
     "data": {
      "text/plain": [
       "(0.004346232624995418, 1.0, 0.5848)"
      ]
     },
     "execution_count": 5,
     "metadata": {},
     "output_type": "execute_result"
    }
   ],
   "source": [
    "from sklearn.linear_model import ElasticNetCV, ElasticNet\n",
    "\n",
    "# Load the dataset\n",
    "\n",
    "train = pd.read_csv('train.csv')\n",
    "test = pd.read_csv('test.csv')\n",
    "\n",
    "# Separate the features and the target variable\n",
    "\n",
    "X_train = train.drop(columns=['ID', 'Customer_Churn'])\n",
    "y_train = train['Customer_Churn']\n",
    "X_val = test.drop(columns=['ID', 'Customer_Churn']) \n",
    "y_val = test['Customer_Churn']\n",
    "\n",
    "# Standardize the data\n",
    "scaler = StandardScaler()\n",
    "X_train_scaled = scaler.fit_transform(X_train)\n",
    "X_val_scaled = scaler.transform(X_val)\n",
    "\n",
    "\n",
    "elastic_net_cv = ElasticNetCV(cv=5, random_state=42, l1_ratio=[.1, .5, .7, .9, .95, .99, 1])\n",
    "elastic_net_cv.fit(X_train_scaled, y_train)\n",
    "\n",
    "# The best alpha value found during cross-validation\n",
    "best_alpha = elastic_net_cv.alpha_\n",
    "# The best l1_ratio found during cross-validation\n",
    "best_l1_ratio = elastic_net_cv.l1_ratio_\n",
    "\n",
    "best_alpha, best_l1_ratio\n",
    "\n",
    "# Now that we have the optimal alpha and l1_ratio, we can build the ElasticNet model\n",
    "elastic_net_model = ElasticNet(alpha=best_alpha, l1_ratio=best_l1_ratio, random_state=42)\n",
    "\n",
    "# Fit the model to the training data\n",
    "elastic_net_model.fit(X_train_scaled, y_train)\n",
    "\n",
    "# Predict on the validation set\n",
    "y_pred_en = elastic_net_model.predict(X_val_scaled) > 0.5  # using 0.5 as the threshold for binary classification\n",
    "\n",
    "# Calculate the accuracy of the model on the validation set\n",
    "accuracy_en = accuracy_score(y_val, y_pred_en)\n",
    "\n",
    "# Output the chosen alpha, l1_ratio, and accuracy of the model\n",
    "best_alpha, best_l1_ratio, accuracy_en\n"
   ]
  },
  {
   "cell_type": "markdown",
   "id": "a7f923e8",
   "metadata": {},
   "source": [
    "#### apparently the best l1 ratio is 1, so this result is the same as doing full lasso earlier above"
   ]
  },
  {
   "cell_type": "code",
   "execution_count": null,
   "id": "76bdbd18",
   "metadata": {},
   "outputs": [],
   "source": []
  }
 ],
 "metadata": {
  "kernelspec": {
   "display_name": "Python 3 (ipykernel)",
   "language": "python",
   "name": "python3"
  },
  "language_info": {
   "codemirror_mode": {
    "name": "ipython",
    "version": 3
   },
   "file_extension": ".py",
   "mimetype": "text/x-python",
   "name": "python",
   "nbconvert_exporter": "python",
   "pygments_lexer": "ipython3",
   "version": "3.10.8"
  }
 },
 "nbformat": 4,
 "nbformat_minor": 5
}
