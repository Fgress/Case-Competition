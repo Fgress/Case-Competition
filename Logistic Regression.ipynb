{
 "cells": [
  {
   "cell_type": "code",
   "execution_count": 1,
   "id": "111fc950",
   "metadata": {
    "tags": []
   },
   "outputs": [],
   "source": [
    "import numpy as np\n",
    "import pandas as pd\n",
    "import seaborn as sns\n",
    "import matplotlib.pyplot as plt\n",
    "from sklearn.linear_model import LogisticRegression\n",
    "from sklearn.metrics import accuracy_score, classification_report"
   ]
  },
  {
   "cell_type": "code",
   "execution_count": 2,
   "id": "df4a353a",
   "metadata": {
    "tags": []
   },
   "outputs": [],
   "source": [
    "train = pd.read_csv('train.csv')\n",
    "test = pd.read_csv('test.csv')"
   ]
  },
  {
   "cell_type": "markdown",
   "id": "f8bb750d",
   "metadata": {},
   "source": [
    "## Full model"
   ]
  },
  {
   "cell_type": "code",
   "execution_count": 5,
   "id": "c4b7ee8c",
   "metadata": {},
   "outputs": [
    {
     "name": "stdout",
     "output_type": "stream",
     "text": [
      "Accuracy: 0.588\n",
      "\n",
      "Classification Report:\n",
      "               precision    recall  f1-score   support\n",
      "\n",
      "           0       0.60      0.82      0.70       714\n",
      "           1       0.54      0.27      0.36       536\n",
      "\n",
      "    accuracy                           0.59      1250\n",
      "   macro avg       0.57      0.55      0.53      1250\n",
      "weighted avg       0.57      0.59      0.55      1250\n",
      "\n"
     ]
    }
   ],
   "source": [
    "# Define features (X) and target response (y)\n",
    "X_train = train.drop(columns=['ID', 'Customer_Churn'])\n",
    "y_train = train['Customer_Churn']\n",
    "\n",
    "X_test = test.drop(columns=['ID', 'Customer_Churn'])\n",
    "y_test = test['Customer_Churn']\n",
    "\n",
    "# Initialize and train the logistic regression model\n",
    "model = LogisticRegression(max_iter=1000)\n",
    "model.fit(X_train, y_train)\n",
    "\n",
    "# Make predictions on the test set\n",
    "y_pred = model.predict(X_test)\n",
    "\n",
    "# Evaluate the model\n",
    "accuracy = accuracy_score(y_test, y_pred)\n",
    "print(f\"Accuracy: {accuracy}\")\n",
    "print(\"\\nClassification Report:\\n\", classification_report(y_test, y_pred))\n"
   ]
  },
  {
   "cell_type": "markdown",
   "id": "5235ffa9",
   "metadata": {},
   "source": [
    "## Subset model\n",
    "\n",
    "Using features that was selected from feature selection notebook.\n",
    "Note: next step, might be to consider only including 1 variable between 'Satisfaction_with_AI_Services' and 'AI_Personalization_Effectiveness' because their correlation is 0.96"
   ]
  },
  {
   "cell_type": "code",
   "execution_count": 3,
   "id": "771cf404",
   "metadata": {
    "tags": []
   },
   "outputs": [
    {
     "name": "stdout",
     "output_type": "stream",
     "text": [
      "Accuracy: 0.5816\n",
      "\n",
      "Classification Report:\n",
      "               precision    recall  f1-score   support\n",
      "\n",
      "           0       0.59      0.86      0.70       714\n",
      "           1       0.53      0.21      0.30       536\n",
      "\n",
      "    accuracy                           0.58      1250\n",
      "   macro avg       0.56      0.54      0.50      1250\n",
      "weighted avg       0.57      0.58      0.53      1250\n",
      "\n"
     ]
    }
   ],
   "source": [
    "train = pd.read_csv('train.csv')\n",
    "test = pd.read_csv('test.csv')\n",
    "\n",
    "# List of columns to select\n",
    "selected_columns = ['Age', 'AI_Interaction_Level', 'AI_Response_Time', 'Overall_Usage_Frequency']\n",
    "\n",
    "# Define features (X) and target response (y)\n",
    "X_train = train[selected_columns]\n",
    "y_train = train['Customer_Churn']\n",
    "\n",
    "X_test = test[selected_columns]\n",
    "y_test = test['Customer_Churn']\n",
    "\n",
    "# Initialize and train the logistic regression model\n",
    "model = LogisticRegression(max_iter=1000)\n",
    "model.fit(X_train, y_train)\n",
    "\n",
    "# Make predictions on the test set\n",
    "y_pred = model.predict(X_test)\n",
    "\n",
    "# Evaluate the model\n",
    "accuracy = accuracy_score(y_test, y_pred)\n",
    "print(f\"Accuracy: {accuracy}\")\n",
    "print(\"\\nClassification Report:\\n\", classification_report(y_test, y_pred))\n"
   ]
  },
  {
   "cell_type": "code",
   "execution_count": 4,
   "id": "d59e987f",
   "metadata": {
    "tags": []
   },
   "outputs": [
    {
     "name": "stdout",
     "output_type": "stream",
     "text": [
      "Accuracy: 0.5872\n",
      "\n",
      "Classification Report:\n",
      "               precision    recall  f1-score   support\n",
      "\n",
      "           0       0.60      0.83      0.70       714\n",
      "           1       0.54      0.26      0.35       536\n",
      "\n",
      "    accuracy                           0.59      1250\n",
      "   macro avg       0.57      0.55      0.52      1250\n",
      "weighted avg       0.57      0.59      0.55      1250\n",
      "\n"
     ]
    }
   ],
   "source": [
    "train = pd.read_csv('train.csv')\n",
    "test = pd.read_csv('test.csv')\n",
    "\n",
    "# List of columns to select\n",
    "selected_columns = ['Age', 'AI_Interaction_Level', 'Satisfaction_with_AI_Services', \n",
    "                    'AI_Personalization_Effectiveness', 'Change_in_Usage_Patterns']\n",
    "\n",
    "# Define features (X) and target response (y)\n",
    "X_train = train[selected_columns]\n",
    "y_train = train['Customer_Churn']\n",
    "\n",
    "X_test = test[selected_columns]\n",
    "y_test = test['Customer_Churn']\n",
    "\n",
    "# Initialize and train the logistic regression model\n",
    "model = LogisticRegression(max_iter=1000)\n",
    "model.fit(X_train, y_train)\n",
    "\n",
    "# Make predictions on the test set\n",
    "y_pred = model.predict(X_test)\n",
    "\n",
    "# Evaluate the model\n",
    "accuracy = accuracy_score(y_test, y_pred)\n",
    "print(f\"Accuracy: {accuracy}\")\n",
    "print(\"\\nClassification Report:\\n\", classification_report(y_test, y_pred))\n"
   ]
  },
  {
   "cell_type": "code",
   "execution_count": 5,
   "id": "6e343666",
   "metadata": {
    "tags": []
   },
   "outputs": [
    {
     "name": "stdout",
     "output_type": "stream",
     "text": [
      "Accuracy: 0.5752\n",
      "\n",
      "Classification Report:\n",
      "               precision    recall  f1-score   support\n",
      "\n",
      "           0       0.59      0.83      0.69       714\n",
      "           1       0.51      0.24      0.33       536\n",
      "\n",
      "    accuracy                           0.58      1250\n",
      "   macro avg       0.55      0.53      0.51      1250\n",
      "weighted avg       0.56      0.58      0.53      1250\n",
      "\n"
     ]
    }
   ],
   "source": [
    "train = pd.read_csv('train.csv')\n",
    "test = pd.read_csv('test.csv')\n",
    "\n",
    "# List of columns to select\n",
    "selected_columns = ['Age', 'AI_Interaction_Level', 'Satisfaction_with_AI_Services',\n",
    "                     'AI_Personalization_Effectiveness', 'Customer_Service_Interactions']\n",
    "\n",
    "# Define features (X) and target response (y)\n",
    "X_train = train[selected_columns]\n",
    "y_train = train['Customer_Churn']\n",
    "\n",
    "X_test = test[selected_columns]\n",
    "y_test = test['Customer_Churn']\n",
    "\n",
    "# Initialize and train the logistic regression model\n",
    "model = LogisticRegression(max_iter=1000)\n",
    "model.fit(X_train, y_train)\n",
    "\n",
    "# Make predictions on the test set\n",
    "y_pred = model.predict(X_test)\n",
    "\n",
    "# Evaluate the model\n",
    "accuracy = accuracy_score(y_test, y_pred)\n",
    "print(f\"Accuracy: {accuracy}\")\n",
    "print(\"\\nClassification Report:\\n\", classification_report(y_test, y_pred))\n",
    "\n"
   ]
  },
  {
   "cell_type": "code",
   "execution_count": null,
   "id": "2eb94597",
   "metadata": {},
   "outputs": [],
   "source": []
  }
 ],
 "metadata": {
  "kernelspec": {
   "display_name": "Python 3 (ipykernel)",
   "language": "python",
   "name": "python3"
  },
  "language_info": {
   "codemirror_mode": {
    "name": "ipython",
    "version": 3
   },
   "file_extension": ".py",
   "mimetype": "text/x-python",
   "name": "python",
   "nbconvert_exporter": "python",
   "pygments_lexer": "ipython3",
   "version": "3.10.8"
  }
 },
 "nbformat": 4,
 "nbformat_minor": 5
}
